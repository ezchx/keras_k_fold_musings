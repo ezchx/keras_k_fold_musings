{
 "cells": [
  {
   "cell_type": "code",
   "execution_count": 1,
   "metadata": {},
   "outputs": [
    {
     "name": "stderr",
     "output_type": "stream",
     "text": [
      "Using TensorFlow backend.\n"
     ]
    }
   ],
   "source": [
    "import numpy as np\n",
    "from sklearn.model_selection import KFold\n",
    "from sklearn.model_selection import StratifiedKFold\n",
    "from keras.preprocessing import image\n",
    "from keras.applications.resnet50 import ResNet50\n",
    "from keras.layers import Dense\n",
    "from keras.models import Model\n",
    "from keras.optimizers import Adam"
   ]
  },
  {
   "cell_type": "code",
   "execution_count": null,
   "metadata": {},
   "outputs": [],
   "source": []
  },
  {
   "cell_type": "code",
   "execution_count": 2,
   "metadata": {},
   "outputs": [
    {
     "name": "stdout",
     "output_type": "stream",
     "text": [
      "Found 8314 images belonging to 7 classes.\n"
     ]
    }
   ],
   "source": [
    "# flow from directory to numpy array\n",
    "gen = image.ImageDataGenerator()\n",
    "img_data = gen.flow_from_directory('../ISIC/ISIC_2018/data_raw/train',\n",
    "                                  target_size = (224,224),\n",
    "                                  class_mode = 'categorical',\n",
    "                                  shuffle = True,\n",
    "                                  batch_size = 8314)\n",
    "x, y = img_data.next()"
   ]
  },
  {
   "cell_type": "code",
   "execution_count": null,
   "metadata": {},
   "outputs": [],
   "source": []
  },
  {
   "cell_type": "code",
   "execution_count": 3,
   "metadata": {},
   "outputs": [],
   "source": [
    "def initialize_model():\n",
    "\n",
    "    resnet = ResNet50(include_top=True, weights='imagenet', input_tensor=None, input_shape=(224,224,3), pooling=None)\n",
    "\n",
    "    output = resnet.layers[-2].output\n",
    "    output_layer = Dense(7, activation='softmax', name='predictions')(output)\n",
    "\n",
    "    custom_resnet = Model(inputs=resnet.input, outputs=output_layer)\n",
    "\n",
    "    custom_resnet.compile(optimizer=Adam(lr=0.00015),\n",
    "                loss='categorical_crossentropy', metrics=['accuracy'])\n",
    "    \n",
    "    return custom_resnet"
   ]
  },
  {
   "cell_type": "code",
   "execution_count": null,
   "metadata": {},
   "outputs": [],
   "source": []
  },
  {
   "cell_type": "code",
   "execution_count": 4,
   "metadata": {},
   "outputs": [
    {
     "name": "stdout",
     "output_type": "stream",
     "text": [
      "Train on 6651 samples, validate on 1663 samples\n",
      "Epoch 1/1\n",
      "6651/6651 [==============================] - 62s 9ms/step - loss: 0.6907 - acc: 0.7516 - val_loss: 0.6767 - val_acc: 0.7583\n",
      "Train on 6651 samples, validate on 1663 samples\n",
      "Epoch 1/1\n",
      "6651/6651 [==============================] - 61s 9ms/step - loss: 0.6765 - acc: 0.7572 - val_loss: 0.6846 - val_acc: 0.7456\n",
      "Train on 6651 samples, validate on 1663 samples\n",
      "Epoch 1/1\n",
      "6651/6651 [==============================] - 61s 9ms/step - loss: 0.6950 - acc: 0.7497 - val_loss: 1.0345 - val_acc: 0.6711\n",
      "Train on 6651 samples, validate on 1663 samples\n",
      "Epoch 1/1\n",
      "6651/6651 [==============================] - 62s 9ms/step - loss: 0.6979 - acc: 0.7510 - val_loss: 0.6090 - val_acc: 0.7643\n",
      "Train on 6652 samples, validate on 1662 samples\n",
      "Epoch 1/1\n",
      "6652/6652 [==============================] - 64s 10ms/step - loss: 0.6917 - acc: 0.7527 - val_loss: 0.7379 - val_acc: 0.7581\n"
     ]
    }
   ],
   "source": [
    "# KFold\n",
    "kf = KFold(n_splits = 5)\n",
    "\n",
    "for train_index, test_index in kf.split(x):\n",
    "\n",
    "    x_train, x_test = x[train_index], x[test_index]\n",
    "    y_train, y_test = y[train_index], y[test_index]\n",
    "    \n",
    "    custom_resnet = initialize_model()\n",
    "    \n",
    "    custom_resnet.fit(x_train, y_train, validation_data = (x_test, y_test), epochs = 1, batch_size = 64)"
   ]
  },
  {
   "cell_type": "code",
   "execution_count": null,
   "metadata": {},
   "outputs": [],
   "source": []
  },
  {
   "cell_type": "code",
   "execution_count": 25,
   "metadata": {},
   "outputs": [
    {
     "name": "stdout",
     "output_type": "stream",
     "text": [
      "Train on 6649 samples, validate on 1665 samples\n",
      "Epoch 1/1\n",
      "6649/6649 [==============================] - 63s 9ms/step - loss: 0.6948 - acc: 0.7533 - val_loss: 0.6631 - val_acc: 0.7574\n",
      "Train on 6651 samples, validate on 1663 samples\n",
      "Epoch 1/1\n",
      "6651/6651 [==============================] - 61s 9ms/step - loss: 0.6886 - acc: 0.7527 - val_loss: 0.7329 - val_acc: 0.7631\n",
      "Train on 6651 samples, validate on 1663 samples\n",
      "Epoch 1/1\n",
      "6651/6651 [==============================] - 62s 9ms/step - loss: 0.6868 - acc: 0.7537 - val_loss: 0.7435 - val_acc: 0.7619\n",
      "Train on 6651 samples, validate on 1663 samples\n",
      "Epoch 1/1\n",
      "6651/6651 [==============================] - 63s 9ms/step - loss: 0.6577 - acc: 0.7667 - val_loss: 0.7230 - val_acc: 0.7396\n",
      "Train on 6654 samples, validate on 1660 samples\n",
      "Epoch 1/1\n",
      "6654/6654 [==============================] - 65s 10ms/step - loss: 0.6799 - acc: 0.7565 - val_loss: 0.9913 - val_acc: 0.6771\n"
     ]
    }
   ],
   "source": [
    "# stratified KFold - overall category distribution is maintained across folds\n",
    "y_cat = np.argmax(y, axis = 1) # convert one hot array to integers\n",
    "kf = StratifiedKFold(n_splits = 5)\n",
    "\n",
    "for train_index, test_index in kf.split(x, y_cat):\n",
    "\n",
    "    x_train, x_test = x[train_index], x[test_index]\n",
    "    y_train, y_test = y[train_index], y[test_index]\n",
    "    \n",
    "    custom_resnet = initialize_model()\n",
    "    \n",
    "    custom_resnet.fit(x_train, y_train, validation_data = (x_test, y_test), epochs = 1, batch_size = 64)"
   ]
  },
  {
   "cell_type": "code",
   "execution_count": null,
   "metadata": {},
   "outputs": [],
   "source": []
  },
  {
   "cell_type": "code",
   "execution_count": null,
   "metadata": {},
   "outputs": [],
   "source": []
  }
 ],
 "metadata": {
  "kernelspec": {
   "display_name": "Python 3",
   "language": "python",
   "name": "python3"
  },
  "language_info": {
   "codemirror_mode": {
    "name": "ipython",
    "version": 3
   },
   "file_extension": ".py",
   "mimetype": "text/x-python",
   "name": "python",
   "nbconvert_exporter": "python",
   "pygments_lexer": "ipython3",
   "version": "3.6.2"
  }
 },
 "nbformat": 4,
 "nbformat_minor": 2
}
